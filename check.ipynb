{
 "cells": [
  {
   "cell_type": "code",
   "execution_count": 6,
   "metadata": {},
   "outputs": [],
   "source": [
    "import numpy as np\n",
    "from rdkit import Chem\n",
    "from rdkit.Chem import Draw\n",
    "import matplotlib.pyplot as plt"
   ]
  },
  {
   "cell_type": "code",
   "execution_count": 35,
   "metadata": {},
   "outputs": [
    {
     "name": "stdout",
     "output_type": "stream",
     "text": [
      "[ 0  0  0  0  0  0  0  0  0  0  0  0  0  0  0  0  0  0  0  0  0  0  0  0\n",
      "  0  0  0  0  0  0  0  0  0  0  0  0  0  0  0  0  0  0  0  0  0  0  0  0\n",
      "  0  0  0  0  0  0  0  0  0  0  0  0  0  0  0  0  0  0  0  0  0  0  0  0\n",
      "  0  0  0  0  0  0  0  0  0  0  0  0  0  0  0  0  0  0  0  0  0  0  0  0\n",
      "  0  0  0  0  0  0  0  0  0  0  0  0  0  0  0  0  0  0  0  0  0  0  0  0\n",
      "  0  0  0  0  0  0  0  0  0  0  0  0  0  0  0  0  0  0  0  0  0  0  0  0\n",
      "  0  0  0  0  0  0  0  0  0  0  0  0  0  0  0  0  0  0  0  0  0  0  0  0\n",
      "  0  0  0  0  0  0  0  0  0  0  0  0  0  0  0  0  0  0  0  0  0  0  0  0\n",
      "  0  0  0  0  0  1  1  1  2  2  2  5  6  6  7  7  8  8  9  9 10 10 12 13\n",
      " 13 14 14 14 15 15 15 15 16 16 16 16 17 17 18 19 19 19 19 19 19 20 20 21\n",
      " 21 22 22 23 23 23 24 24 24 25 25 25 25 25 25 25 26 26 26 26 26 27 27 27\n",
      " 27 28 28 28 28 29 29 29 29 29 29 30 30 30 30 30 30 31 31 31 31 31 31 31\n",
      " 31 31 31 31 32 32 32 32 32 33 33 33 33 33 33 33 34 34 34 34 34 34 35 35\n",
      " 35 35 35 35 35 36 36 36 36 36 36 36 36 36 37 37 38 38 38 38 38 38 38 39\n",
      " 39 39 39 39 39 39 40 40 40 40 41 41 41 41 42 42 42 42 42 42 42 43 43 43\n",
      " 43 43 43 43 43 43 44 44 44 44 44 44 45 45 45 45 45 45 45 45 45 46 46 46\n",
      " 46 46 46 47 47 47 47 47 47 48 48 48 48 48 48 48 48 48 49 49 49 49 49 49\n",
      " 49 49 49 50 50 50 50 50 50 50 50 50 51 51 51 51 51 52 52 52 52 52 52 52\n",
      " 52 52 52 52 52 53 53 53 53 53 53 53 53 54 54 54 54 54 55 55 55 56 56 56\n",
      " 56 56 56 56 57 57 57 57 57 57 57 58 58 58 58 58 58 58 59 59 59 59 59 59\n",
      " 59 60 60 60 60 60 60 60 60 60 60 60 60 60 60]\n"
     ]
    }
   ],
   "source": [
    "data = np.load('results/bo_idl_zinc_64d/observed_iteration.npy')\n",
    "print(data)"
   ]
  },
  {
   "cell_type": "code",
   "execution_count": 33,
   "metadata": {},
   "outputs": [
    {
     "name": "stdout",
     "output_type": "stream",
     "text": [
      "Draw 146 molecules\n"
     ]
    }
   ],
   "source": [
    "smiles_file = 'results/bo_idl_zinc_64d/final_pareto_smiles.txt'\n",
    "image_file = 'results/bo_idl_zinc_64d/pareto_molecules.png'\n",
    "molecules = []\n",
    "legends = []\n",
    "with open(smiles_file, 'r') as f:\n",
    "    for line in f:\n",
    "        parts = line.strip().split()\n",
    "        if parts:\n",
    "            smiles = parts[0]\n",
    "            sas = parts[1]\n",
    "            qed = parts[2]\n",
    "            mol = Chem.MolFromSmiles(smiles)\n",
    "            if mol:\n",
    "                molecules.append(mol)\n",
    "                legend = f\"{smiles}\\n QED:{qed} | SAS:{sas}\"\n",
    "                legends.append(legend)\n",
    "            else:\n",
    "                print(f\"Invalid molecules: {smiles}\")\n",
    "\n",
    "print(f\"Draw {len(molecules)} molecules\")\n",
    "\n",
    "img = Draw.MolsToGridImage(\n",
    "    molecules,\n",
    "    molsPerRow=10,\n",
    "    legends=legends\n",
    ")\n",
    "\n",
    "img.save(image_file)\n",
    "\n",
    "\n"
   ]
  },
  {
   "cell_type": "markdown",
   "metadata": {},
   "source": []
  }
 ],
 "metadata": {
  "kernelspec": {
   "display_name": "vae",
   "language": "python",
   "name": "python3"
  },
  "language_info": {
   "codemirror_mode": {
    "name": "ipython",
    "version": 3
   },
   "file_extension": ".py",
   "mimetype": "text/x-python",
   "name": "python",
   "nbconvert_exporter": "python",
   "pygments_lexer": "ipython3",
   "version": "3.8.20"
  }
 },
 "nbformat": 4,
 "nbformat_minor": 2
}
